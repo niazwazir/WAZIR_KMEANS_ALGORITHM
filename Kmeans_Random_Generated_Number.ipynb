{
  "nbformat": 4,
  "nbformat_minor": 0,
  "metadata": {
    "kernelspec": {
      "display_name": "Python 2",
      "language": "python",
      "name": "python2"
    },
    "language_info": {
      "codemirror_mode": {
        "name": "ipython",
        "version": 2
      },
      "file_extension": ".py",
      "mimetype": "text/x-python",
      "name": "python",
      "nbconvert_exporter": "python",
      "pygments_lexer": "ipython2",
      "version": "2.7.13"
    },
    "colab": {
      "name": "Kmeans.ipynb",
      "version": "0.3.2",
      "provenance": []
    }
  },
  "cells": [
    {
      "cell_type": "markdown",
      "metadata": {
        "id": "mutkZv4jhv5h",
        "colab_type": "text"
      },
      "source": [
        "## KMeans algorithm"
      ]
    },
    {
      "cell_type": "code",
      "metadata": {
        "id": "iLG3j7duhv5w",
        "colab_type": "code",
        "colab": {}
      },
      "source": [
        "import numpy as np\n",
        "import matplotlib.pyplot as pl\n",
        "%matplotlib inline"
      ],
      "execution_count": 0,
      "outputs": []
    },
    {
      "cell_type": "markdown",
      "metadata": {
        "id": "3KPhh_55hv5w",
        "colab_type": "text"
      },
      "source": [
        "creating an array of random points"
      ]
    },
    {
      "cell_type": "code",
      "metadata": {
        "id": "sdk-nHuyhv6A",
        "colab_type": "code",
        "colab": {}
      },
      "source": [
        "import random\n",
        "x=np.arange(500)\n",
        "y=np.arange(500)\n",
        "random.shuffle(x)\n",
        "random.shuffle(y)"
      ],
      "execution_count": 0,
      "outputs": []
    },
    {
      "cell_type": "code",
      "metadata": {
        "id": "KYe-O1achv6P",
        "colab_type": "code",
        "colab": {}
      },
      "source": [
        "arr=[(x[i],y[i]) for i in xrange(len(x))]"
      ],
      "execution_count": 0,
      "outputs": []
    },
    {
      "cell_type": "code",
      "metadata": {
        "id": "loU4nif0hv6P",
        "colab_type": "code",
        "colab": {
          "base_uri": "https://localhost:8080/",
          "height": 295
        },
        "outputId": "657f8fbd-3956-430b-d7cf-d28ede4b4d12"
      },
      "source": [
        "for i in arr:\n",
        "    pl.plot(i[0],i[1],'ro')\n",
        "pl.yscale('linear')\n",
        "pl.xscale('linear')\n",
        "pl.title('k means try')\n",
        "pl.xlabel('X-axis')\n",
        "pl.ylabel('Y-axis')\n",
        "pl.show()"
      ],
      "execution_count": 4,
      "outputs": [
        {
          "output_type": "display_data",
          "data": {
            "image/png": "[encoded data removed]",
            "text/plain": [
              "<Figure size 432x288 with 1 Axes>"
            ]
          },
          "metadata": {
            "tags": []
          }
        }
      ]
    },
    {
      "cell_type": "markdown",
      "metadata": {
        "id": "RGAdssoChv6f",
        "colab_type": "text"
      },
      "source": [
        "Importing the KMeans algorithm module from sklearn"
      ]
    },
    {
      "cell_type": "code",
      "metadata": {
        "id": "8Skfv0_Khv6v",
        "colab_type": "code",
        "colab": {}
      },
      "source": [
        "from sklearn.cluster import KMeans"
      ],
      "execution_count": 0,
      "outputs": []
    },
    {
      "cell_type": "code",
      "metadata": {
        "id": "JQQfeyzRhv6-",
        "colab_type": "code",
        "colab": {}
      },
      "source": [
        "model=KMeans(n_clusters=4,n_jobs=2) #We have set the number of clusters to 4"
      ],
      "execution_count": 0,
      "outputs": []
    },
    {
      "cell_type": "code",
      "metadata": {
        "id": "2j1BpEuWhv6-",
        "colab_type": "code",
        "colab": {
          "base_uri": "https://localhost:8080/",
          "height": 68
        },
        "outputId": "a0ef7b52-cfa2-4df3-c634-23d0fe7d2321"
      },
      "source": [
        "model.fit(arr) #fitting data to the model"
      ],
      "execution_count": 7,
      "outputs": [
        {
          "output_type": "execute_result",
          "data": {
            "text/plain": [
              "KMeans(algorithm='auto', copy_x=True, init='k-means++', max_iter=300,\n",
              "    n_clusters=4, n_init=10, n_jobs=2, precompute_distances='auto',\n",
              "    random_state=None, tol=0.0001, verbose=0)"
            ]
          },
          "metadata": {
            "tags": []
          },
          "execution_count": 7
        }
      ]
    },
    {
      "cell_type": "code",
      "metadata": {
        "id": "sFFeK-SLhv7O",
        "colab_type": "code",
        "colab": {}
      },
      "source": [
        "colors=['r','y','g','b']\n",
        "marks=['o','*','D','^']"
      ],
      "execution_count": 0,
      "outputs": []
    },
    {
      "cell_type": "code",
      "metadata": {
        "id": "NjnKXR3Uhv7d",
        "colab_type": "code",
        "colab": {}
      },
      "source": [
        "clus=model.labels_"
      ],
      "execution_count": 0,
      "outputs": []
    },
    {
      "cell_type": "code",
      "metadata": {
        "id": "nHjt5-Tqhv7t",
        "colab_type": "code",
        "colab": {
          "base_uri": "https://localhost:8080/",
          "height": 295
        },
        "outputId": "816cca67-d92f-4ae2-92b5-d1c6b7425784"
      },
      "source": [
        "for i in xrange(len(arr)):\n",
        "    pl.plot(arr[i][0],arr[i][1],colors[clus[i]]+marks[clus[i]])\n",
        "pl.yscale('linear')\n",
        "pl.xscale('linear')\n",
        "pl.title('k means try')\n",
        "pl.xlabel('X-axis')\n",
        "pl.ylabel('Y-axis')\n",
        "pl.show()"
      ],
      "execution_count": 10,
      "outputs": [
        {
          "output_type": "display_data",
          "data": {
            "image/png": "[encoded data removed]",
            "text/plain": [
              "<Figure size 432x288 with 1 Axes>"
            ]
          },
          "metadata": {
            "tags": []
          }
        }
      ]
    },
    {
      "cell_type": "code",
      "metadata": {
        "id": "jiBpN4Yghv79",
        "colab_type": "code",
        "colab": {}
      },
      "source": [
        ""
      ],
      "execution_count": 0,
      "outputs": []
    }
  ]
}