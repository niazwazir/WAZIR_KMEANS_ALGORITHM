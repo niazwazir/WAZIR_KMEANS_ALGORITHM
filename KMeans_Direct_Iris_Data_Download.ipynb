{
  "nbformat": 4,
  "nbformat_minor": 0,
  "metadata": {
    "kernelspec": {
      "display_name": "Python 3",
      "language": "python",
      "name": "python3"
    },
    "language_info": {
      "codemirror_mode": {
        "name": "ipython",
        "version": 3
      },
      "file_extension": ".py",
      "mimetype": "text/x-python",
      "name": "python",
      "nbconvert_exporter": "python",
      "pygments_lexer": "ipython3",
      "version": "3.6.4"
    },
    "colab": {
      "name": "KMeans.ipynb",
      "version": "0.3.2",
      "provenance": []
    }
  },
  "cells": [
    {
      "cell_type": "markdown",
      "metadata": {
        "id": "Xv1TnCnZikyD",
        "colab_type": "text"
      },
      "source": [
        "### Implementation of KMeans Clustering Algorithm "
      ]
    },
    {
      "cell_type": "code",
      "metadata": {
        "id": "N7UfZkl7ikyN",
        "colab_type": "code",
        "colab": {}
      },
      "source": [
        "from sklearn.datasets import load_iris\n",
        "iris = load_iris()"
      ],
      "execution_count": 0,
      "outputs": []
    },
    {
      "cell_type": "code",
      "metadata": {
        "id": "PHjmxWN_ikyb",
        "colab_type": "code",
        "colab": {
          "base_uri": "https://localhost:8080/",
          "height": 85
        },
        "outputId": "cfde264f-6fc6-49ad-ad00-6ce330db05b8"
      },
      "source": [
        "print(iris.feature_names)\n",
        "print(iris.target_names)\n",
        "print(iris.data[0])\n",
        "print(iris.target[0])"
      ],
      "execution_count": 3,
      "outputs": [
        {
          "output_type": "stream",
          "text": [
            "['sepal length (cm)', 'sepal width (cm)', 'petal length (cm)', 'petal width (cm)']\n",
            "['setosa' 'versicolor' 'virginica']\n",
            "[5.1 3.5 1.4 0.2]\n",
            "0\n"
          ],
          "name": "stdout"
        }
      ]
    },
    {
      "cell_type": "code",
      "metadata": {
        "id": "IdQ0O3eoikyo",
        "colab_type": "code",
        "colab": {}
      },
      "source": [
        "import numpy as np\n",
        "import random\n",
        "\n",
        "X = iris.data\n",
        "size = len(iris.data)\n",
        "feature_size = len(iris.feature_names)\n",
        "\n",
        "k_clusters = 3\n",
        "\n",
        "k_centroid = random.sample(range(0,150), k_clusters)\n",
        "centroid = X[k_centroid]\n",
        "\n",
        "map = np.zeros(size,dtype=int)\n",
        "prevMap = np.zeros(size,dtype=int)\n",
        "\n",
        "while True:\n",
        "    \n",
        "    for i in range(size):\n",
        "        dist = []\n",
        "        for k in centroid:\n",
        "            sum=0\n",
        "            for j in range(feature_size):\n",
        "                sum += abs(X[i][j]-k[j])**2\n",
        "            dist.append(sum**(1/2))   \n",
        "        mindist = min(dist)\n",
        "        for l in range(k_clusters):\n",
        "            if dist[l]==mindist:\n",
        "                map[i]=l+1\n",
        "    \n",
        "    if np.array_equal(prevMap,map):\n",
        "        break;\n",
        "    \n",
        "    new_centroid = []\n",
        "    mattoplot=[]\n",
        "    count=np.zeros(k_clusters,dtype=int) \n",
        "    for i in range(k_clusters):\n",
        "        x1 = np.zeros(feature_size)\n",
        "        for j in range(size):\n",
        "            if map[j]==i+1:\n",
        "                mattoplot.append(list(X[j]))\n",
        "                x1 = np.add(x1,X[j])\n",
        "                count[i]+=1\n",
        "        new_centroid.append(np.divide(x1,count[i]))        \n",
        "    centroid = np.array(new_centroid) \n",
        "    \n",
        "    prevMap = map;\n",
        "    "
      ],
      "execution_count": 0,
      "outputs": []
    },
    {
      "cell_type": "code",
      "metadata": {
        "id": "Z1S1eGHDikyo",
        "colab_type": "code",
        "colab": {
          "base_uri": "https://localhost:8080/",
          "height": 68
        },
        "outputId": "10b3bfad-8eb3-457c-b911-ca3edf5f64fc"
      },
      "source": [
        "print(centroid)"
      ],
      "execution_count": 5,
      "outputs": [
        {
          "output_type": "stream",
          "text": [
            "[[6.93225806 3.10645161 5.85483871 2.14193548]\n",
            " [5.00566038 3.36981132 1.56037736 0.29056604]\n",
            " [6.00454545 2.78333333 4.53787879 1.48636364]]\n"
          ],
          "name": "stdout"
        }
      ]
    },
    {
      "cell_type": "code",
      "metadata": {
        "id": "f3r3SLJ0ikzP",
        "colab_type": "code",
        "colab": {
          "base_uri": "https://localhost:8080/",
          "height": 51
        },
        "outputId": "aea61c74-c40b-4c50-e812-c4088a216d1b"
      },
      "source": [
        "print(len(mattoplot))\n",
        "print(count)"
      ],
      "execution_count": 6,
      "outputs": [
        {
          "output_type": "stream",
          "text": [
            "150\n",
            "[31 53 66]\n"
          ],
          "name": "stdout"
        }
      ]
    },
    {
      "cell_type": "code",
      "metadata": {
        "id": "Ndcc-iMlikzk",
        "colab_type": "code",
        "colab": {}
      },
      "source": [
        "a = np.array(mattoplot)\n",
        "m = a[...,0]\n",
        "n = a[...,1]"
      ],
      "execution_count": 0,
      "outputs": []
    },
    {
      "cell_type": "code",
      "metadata": {
        "id": "CI_shQ16ikz0",
        "colab_type": "code",
        "colab": {
          "base_uri": "https://localhost:8080/",
          "height": 283
        },
        "outputId": "7f7051a9-f1d7-4952-c4be-159f138f672e"
      },
      "source": [
        "import matplotlib.pyplot as plt\n",
        "plt.plot(m[0:30], n[0:30],  'ro')\n",
        "plt.plot(m[30:80], n[30:80],  'bo')\n",
        "plt.plot(m[80:150], n[80:150],  'go')\n",
        "plt.ylabel('sepal length')\n",
        "plt.xlabel('sepal width')\n",
        "plt.show()"
      ],
      "execution_count": 8,
      "outputs": [
        {
          "output_type": "display_data",
          "data": {
            "image/png": "[encoded data removed]",
            "text/plain": [
              "<Figure size 432x288 with 1 Axes>"
            ]
          },
          "metadata": {
            "tags": []
          }
        }
      ]
    },
    {
      "cell_type": "code",
      "metadata": {
        "id": "7HYTcv-2i0wO",
        "colab_type": "code",
        "colab": {}
      },
      "source": [
        ""
      ],
      "execution_count": 0,
      "outputs": []
    }
  ]
}