{
  "nbformat": 4,
  "nbformat_minor": 0,
  "metadata": {
    "colab": {
      "name": "K_MEANS_CLUSTERING.ipynb",
      "version": "0.3.2",
      "provenance": []
    },
    "kernelspec": {
      "name": "python3",
      "display_name": "Python 3"
    },
    "accelerator": "GPU"
  },
  "cells": [
    {
      "cell_type": "code",
      "metadata": {
        "id": "eknl-AY9ft2N",
        "colab_type": "code",
        "colab": {}
      },
      "source": [
        "import pandas as pd\n",
        "import numpy as np\n",
        "import matplotlib.pyplot as plt\n",
        "%matplotlib inline"
      ],
      "execution_count": 0,
      "outputs": []
    },
    {
      "cell_type": "code",
      "metadata": {
        "id": "oej2lUsXgOHc",
        "colab_type": "code",
        "colab": {}
      },
      "source": [
        "#DEFINE PANDA DATA FRAME \n",
        "df = pd.DataFrame({\n",
        "    'x':[12,20,28,18,29,33,24,45,45,52,51,52,55,53,55,61,64,69,72],\n",
        "    'y':[39,36,30,52,54,46,55,59,63,70,66,63,58,23,14,8,19,7,24]\n",
        "})"
      ],
      "execution_count": 0,
      "outputs": []
    },
    {
      "cell_type": "code",
      "metadata": {
        "id": "tUGT9VrJg9HO",
        "colab_type": "code",
        "colab": {
          "base_uri": "https://localhost:8080/",
          "height": 324
        },
        "outputId": "a75ed290-5592-42f3-ad44-b9216624e3c6"
      },
      "source": [
        "np.random.seed(200)#\n",
        "k = 3 #number of groups or clusters\n",
        "#Now chossing the centroids\n",
        "centroids = {\n",
        "    i+1: [np.random.randint(0,80),np.random.randint(0,80)] #Number is greater than zero and less than 80\n",
        "    for i in range(k)\n",
        "     \n",
        "}\n",
        "fig = plt.figure(figsize=(5,5))\n",
        "plt.scatter(df['x'],df['y'],color='k') # k is assign three different colors because our cluster is 3\n",
        "colmap = {1: 'r', 2: 'g', 3: 'b'}\n",
        "for i in centroids.keys():\n",
        "  plt.scatter(*centroids[i],color=colmap[i])\n",
        "plt.xlim(0,80)\n",
        "plt.ylim(0,80)\n",
        "plt.show() #shows a three clusters are red, green and blue"
      ],
      "execution_count": 3,
      "outputs": [
        {
          "output_type": "display_data",
          "data": {
            "image/png": "[encoded data removed]",
            "text/plain": [
              "<Figure size 360x360 with 1 Axes>"
            ]
          },
          "metadata": {
            "tags": []
          }
        }
      ]
    },
    {
      "cell_type": "code",
      "metadata": {
        "id": "ok7sTpfoxkzr",
        "colab_type": "code",
        "colab": {
          "base_uri": "https://localhost:8080/",
          "height": 426
        },
        "outputId": "c10ceb42-0655-4582-a9fc-a064c4c54d93"
      },
      "source": [
        "def assignment(df, centroids):\n",
        "    for i in centroids.keys():\n",
        "        # sqrt((x1 - x2)^2 - (y1 - y2)^2)\n",
        "        df['distance_from_{}'.format(i)] = (\n",
        "            np.sqrt(\n",
        "                (df['x'] - centroids[i][0]) ** 2\n",
        "                + (df['y'] - centroids[i][1]) ** 2\n",
        "            )\n",
        "        )\n",
        "    centroid_distance_cols = ['distance_from_{}'.format(i) for i in centroids.keys()]\n",
        "    df['closest'] = df.loc[:, centroid_distance_cols].idxmin(axis=1)\n",
        "    df['closest'] = df['closest'].map(lambda x: int(x.lstrip('distance_from_')))\n",
        "    df['color'] = df['closest'].map(lambda x: colmap[x])\n",
        "    return df\n",
        "\n",
        "df = assignment(df, centroids)\n",
        "print(df.head())\n",
        "\n",
        "fig = plt.figure(figsize=(5, 5))\n",
        "plt.scatter(df['x'], df['y'], color=df['color'], alpha=0.5, edgecolor='k')\n",
        "for i in centroids.keys():\n",
        "    plt.scatter(*centroids[i], color=colmap[i])\n",
        "plt.xlim(0, 80)\n",
        "plt.ylim(0, 80)\n",
        "plt.show()\n",
        "\n",
        "#RESULTS SHOWS distance from first cluster is 26, from second is 56 and third 56.72, so it is close to first cluster we assign 1 and color of first cluster is red"
      ],
      "execution_count": 4,
      "outputs": [
        {
          "output_type": "stream",
          "text": [
            "    x   y  distance_from_1  distance_from_2  distance_from_3  closest color\n",
            "0  12  39        26.925824        56.080300        56.727418        1     r\n",
            "1  20  36        20.880613        48.373546        53.150729        1     r\n",
            "2  28  30        14.142136        41.761226        53.338541        1     r\n",
            "3  18  52        36.878178        50.990195        44.102154        1     r\n",
            "4  29  54        38.118237        40.804412        34.058773        3     b\n"
          ],
          "name": "stdout"
        },
        {
          "output_type": "display_data",
          "data": {
            "image/png": "[encoded data removed]",
            "text/plain": [
              "<Figure size 360x360 with 1 Axes>"
            ]
          },
          "metadata": {
            "tags": []
          }
        }
      ]
    },
    {
      "cell_type": "code",
      "metadata": {
        "id": "Ov6O7cCnz0Ty",
        "colab_type": "code",
        "colab": {}
      },
      "source": [
        "#NEXt STAGE CENTROID IS UPDATED, SO CENTROID IS SHIFTED"
      ],
      "execution_count": 0,
      "outputs": []
    },
    {
      "cell_type": "code",
      "metadata": {
        "id": "Z2gSHuwzx70e",
        "colab_type": "code",
        "colab": {
          "base_uri": "https://localhost:8080/",
          "height": 324
        },
        "outputId": "6730f8c7-f370-4c6d-f78b-df418a080c51"
      },
      "source": [
        "import copy\n",
        "\n",
        "old_centroids = copy.deepcopy(centroids)\n",
        "\n",
        "def update(k):\n",
        "    for i in centroids.keys():\n",
        "        centroids[i][0] = np.mean(df[df['closest'] == i]['x'])\n",
        "        centroids[i][1] = np.mean(df[df['closest'] == i]['y'])\n",
        "    return k\n",
        "\n",
        "for r in range(1):\n",
        "  old_centroids = copy.deepcopy(centroids)\n",
        "  centroids = update(centroids)\n",
        "    \n",
        "  fig = plt.figure(figsize=(5, 5))\n",
        "  ax = plt.axes()\n",
        "  plt.scatter(df['x'], df['y'], color=df['color'], alpha=0.5, edgecolor='k')\n",
        "  for i in centroids.keys():\n",
        "    plt.scatter(*centroids[i], color=colmap[i])\n",
        "    plt.xlim(0, 80)\n",
        "    plt.ylim(0, 80)\n",
        "    for i in old_centroids.keys():\n",
        "      old_x = old_centroids[i][0]\n",
        "      old_y = old_centroids[i][1]\n",
        "      dx = (centroids[i][0] - old_centroids[i][0]) * 0.75 #positioning arrow\n",
        "      dy = (centroids[i][1] - old_centroids[i][1]) * 0.75 #positioning arrow\n",
        "      ax.arrow(old_x, old_y, dx, dy, head_width=2, head_length=3, fc=colmap[i], ec=colmap[i])\n",
        "plt.show()"
      ],
      "execution_count": 6,
      "outputs": [
        {
          "output_type": "display_data",
          "data": {
            "image/png": "[encoded data removed]",
            "text/plain": [
              "<Figure size 360x360 with 1 Axes>"
            ]
          },
          "metadata": {
            "tags": []
          }
        }
      ]
    },
    {
      "cell_type": "code",
      "metadata": {
        "id": "QLH25yqi02va",
        "colab_type": "code",
        "colab": {
          "base_uri": "https://localhost:8080/",
          "height": 324
        },
        "outputId": "7363c537-cf44-431d-949c-25f94d9bc4b9"
      },
      "source": [
        "#NOW REPEATED PROCESS\n",
        "\n",
        "df = assignment(df, centroids)\n",
        "\n",
        "#plot results\n",
        "fig = plt.figure(figsize=(5,5))\n",
        "plt.scatter(df['x'],df['y'],color=df['color'],alpha=0.5,edgecolor='k')\n",
        "for i in centroids.keys():\n",
        "  plt.scatter(*centroids[i],color=colmap[i])\n",
        "plt.xlim(0,80)\n",
        "plt.ylim(0,80)\n",
        "plt.show()"
      ],
      "execution_count": 7,
      "outputs": [
        {
          "output_type": "display_data",
          "data": {
            "image/png": "[encoded data removed]",
            "text/plain": [
              "<Figure size 360x360 with 1 Axes>"
            ]
          },
          "metadata": {
            "tags": []
          }
        }
      ]
    },
    {
      "cell_type": "code",
      "metadata": {
        "id": "x9-RN58M2bNf",
        "colab_type": "code",
        "colab": {
          "base_uri": "https://localhost:8080/",
          "height": 324
        },
        "outputId": "201cf9a9-df40-4c74-9549-fa907cffcc05"
      },
      "source": [
        "#continu until all assigned categories don't change any more\n",
        "while True:\n",
        "  closest_centroids = df['closest'].copy(deep=True)\n",
        "  centroids = update(centroids)\n",
        "  df = assignment(df,centroids)\n",
        "  if closest_centroids.equals(df['closest']):\n",
        "    break\n",
        "    \n",
        "fig = plt.figure(figsize=(5,5))\n",
        "plt.scatter(df['x'],df['y'],color=df['color'],alpha=0.5,edgecolor='k')\n",
        "for i in centroids.keys():\n",
        "  plt.scatter(*centroids[i],color=colmap[i])\n",
        "plt.xlim(0,80)\n",
        "plt.ylim(0,80)\n",
        "plt.show()"
      ],
      "execution_count": 8,
      "outputs": [
        {
          "output_type": "display_data",
          "data": {
            "image/png": "[encoded data removed]",
            "text/plain": [
              "<Figure size 360x360 with 1 Axes>"
            ]
          },
          "metadata": {
            "tags": []
          }
        }
      ]
    },
    {
      "cell_type": "code",
      "metadata": {
        "id": "ZbiV6_PT4FBp",
        "colab_type": "code",
        "colab": {
          "base_uri": "https://localhost:8080/",
          "height": 68
        },
        "outputId": "aa140708-fd46-4759-8929-6e85a89c9e67"
      },
      "source": [
        "#SAME TASk PERFORM BY BUILT IN LIBRARAY In SCIKIT LEARN\n",
        "#DEFINE PANDA DATA FRAME \n",
        "df = pd.DataFrame({\n",
        "    'x':[12,20,28,18,29,33,24,45,45,52,51,52,55,53,55,61,64,69,72],\n",
        "    'y':[39,36,30,52,54,46,55,59,63,70,66,63,58,23,14,8,19,7,24]\n",
        "})\n",
        "\n",
        "from sklearn.cluster import KMeans\n",
        "\n",
        "kmeans = KMeans(n_clusters=3)\n",
        "kmeans.fit(df)"
      ],
      "execution_count": 9,
      "outputs": [
        {
          "output_type": "execute_result",
          "data": {
            "text/plain": [
              "KMeans(algorithm='auto', copy_x=True, init='k-means++', max_iter=300,\n",
              "       n_clusters=3, n_init=10, n_jobs=None, precompute_distances='auto',\n",
              "       random_state=None, tol=0.0001, verbose=0)"
            ]
          },
          "metadata": {
            "tags": []
          },
          "execution_count": 9
        }
      ]
    },
    {
      "cell_type": "code",
      "metadata": {
        "id": "AB6orGPT46oE",
        "colab_type": "code",
        "colab": {}
      },
      "source": [
        "labels = kmeans.predict(df)\n",
        "centroids = kmeans.cluster_centers_"
      ],
      "execution_count": 0,
      "outputs": []
    },
    {
      "cell_type": "code",
      "metadata": {
        "id": "8qQ55UkW5Jkb",
        "colab_type": "code",
        "colab": {
          "base_uri": "https://localhost:8080/",
          "height": 324
        },
        "outputId": "ac232597-cdbe-4e3e-c84e-5b62d3073956"
      },
      "source": [
        "fig = plt.figure(figsize=(5,5))\n",
        "\n",
        "colors = map(lambda x: colmap[x+1], labels)\n",
        "colors1 = list(colors)\n",
        "plt.scatter(df['x'],df['y'],color=colors1,alpha=0.5,edgecolor='k')\n",
        "for idx, centroid in enumerate(centroids):\n",
        "  plt.scatter(*centroid,color=colmap[idx+1])\n",
        "plt.xlim(0,80)\n",
        "plt.ylim(0,80)\n",
        "plt.show()"
      ],
      "execution_count": 11,
      "outputs": [
        {
          "output_type": "display_data",
          "data": {
            "image/png": "[encoded data removed]",
            "text/plain": [
              "<Figure size 360x360 with 1 Axes>"
            ]
          },
          "metadata": {
            "tags": []
          }
        }
      ]
    },
    {
      "cell_type": "code",
      "metadata": {
        "id": "q2U5vrKl6C6a",
        "colab_type": "code",
        "colab": {}
      },
      "source": [
        ""
      ],
      "execution_count": 0,
      "outputs": []
    }
  ]
}